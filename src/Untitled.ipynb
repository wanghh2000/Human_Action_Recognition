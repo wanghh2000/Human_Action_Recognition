{
 "cells": [
  {
   "cell_type": "code",
   "execution_count": 4,
   "metadata": {},
   "outputs": [
    {
     "output_type": "stream",
     "name": "stdout",
     "text": "[[1, 2, 3]]\n"
    }
   ],
   "source": [
    "test_list = []\n",
    "test_list.insert(10, [1,2,3])\n",
    "print(test_list)"
   ]
  },
  {
   "cell_type": "code",
   "execution_count": 5,
   "metadata": {},
   "outputs": [
    {
     "output_type": "stream",
     "name": "stdout",
     "text": "dict_keys([0, 2])\ndict_values([[0, 1, 2, 3, 4], [0, 1, 3, 4, 5]])\n"
    }
   ],
   "source": [
    "test_dict = {0:[0,1,2,3,4],2:[0,1,3,4,5]}\n",
    "idx = test_dict.keys()\n",
    "print(idx)\n",
    "points = test_dict.values()\n",
    "print(points)"
   ]
  },
  {
   "cell_type": "code",
   "execution_count": 21,
   "metadata": {},
   "outputs": [
    {
     "output_type": "stream",
     "name": "stdout",
     "text": "[0]\n"
    }
   ],
   "source": [
    "dict_1 = {0:[0,1,2,3,4],1:[0,1,3,4,5]}\n",
    "dict_2 = {3:[0,1,2,3,4],1:[0,1,3,4,5]}\n",
    "dict_set1 = set(dict_1)\n",
    "dict_set2 = set(dict_2)\n",
    "resul_id = list(dict_set1 - dict_set2)\n",
    "print(resul_id)"
   ]
  },
  {
   "cell_type": "code",
   "execution_count": 27,
   "metadata": {},
   "outputs": [
    {
     "output_type": "stream",
     "name": "stdout",
     "text": "[0, 1, 2]\n0\n1\n2\n"
    }
   ],
   "source": [
    "l1 = [0,1,2,3,4]\n",
    "l2 = [5,3,4]\n",
    "s1 = set(l1)\n",
    "s2 = set(l2)\n",
    "res = list(s1 - s2)\n",
    "print(res)\n",
    "for index in res:\n",
    "    print(l1.index(index))\n",
    ""
   ]
  },
  {
   "cell_type": "code",
   "execution_count": 1,
   "metadata": {},
   "outputs": [
    {
     "output_type": "stream",
     "name": "stdout",
     "text": "{0: [0, 0, 0]}\n"
    }
   ],
   "source": [
    "target_dict = {}\n",
    "pre_1 = 1\n",
    "id = 0\n",
    "dict1 = {pre_1:id}\n",
    "target_dict[id] = pre_1\n",
    "target_dict[0] = [0,0,0]\n",
    "print(target_dict)"
   ]
  },
  {
   "cell_type": "code",
   "execution_count": 11,
   "metadata": {},
   "outputs": [
    {
     "output_type": "stream",
     "name": "stdout",
     "text": "dict_values([[0, 0], [1, 1]])\n<dict_valueiterator object at 0x7f8bf1752318>\n[0, 0]\n"
    }
   ],
   "source": [
    "a_dict = {1:[0,0],2:[1,1]}\n",
    "values_view = a_dict.values()\n",
    "print(values_view)\n",
    "value_iterator = iter(values_view)\n",
    "print(value_iterator)\n",
    "first_value = next(value_iterator)\n",
    "print(first_value)"
   ]
  },
  {
   "cell_type": "code",
   "execution_count": 4,
   "metadata": {},
   "outputs": [
    {
     "output_type": "error",
     "ename": "SyntaxError",
     "evalue": "can't assign to function call (<ipython-input-4-abdf07c4ba56>, line 7)",
     "traceback": [
      "\u001b[0;36m  File \u001b[0;32m\"<ipython-input-4-abdf07c4ba56>\"\u001b[0;36m, line \u001b[0;32m7\u001b[0m\n\u001b[0;31m    save_dict_to_file(dict_2)= {0:[0,1,2,3,4],1:[0,1,3,4,5]}\u001b[0m\n\u001b[0m                                                            ^\u001b[0m\n\u001b[0;31mSyntaxError\u001b[0m\u001b[0;31m:\u001b[0m can't assign to function call\n"
     ]
    }
   ],
   "source": [
    "def save_dict_to_file(dic):\n",
    "    f = open('dict.txt','w')\n",
    "    f.write(str(dic))\n",
    "    f.close()\n",
    "\n",
    "dict_2 = {3:[0,1,2,3,4],1:[0,1,3,4,5]}\n",
    "save_dict_to_file(dict_2)= {0:[0,1,2,3,4],1:[0,1,3,4,5]}\n",
    "ids,scores =  map(list, zip(*dict_1.items()))\n",
    "listP = [['p1',1,2,3,4,5]]\n",
    "print(listP)\n",
    "import pickle\n",
    "def save_obj(obj, name ):\n",
    "    with open('obj/'+ name + '.pkl', 'wb+') as f:\n",
    "        pickle.dump(obj, f, pickle.HIGHEST_PROTOCOL)\n",
    "\n",
    "save_obj( dict_1, name='test')"
   ]
  },
  {
   "cell_type": "code",
   "execution_count": null,
   "metadata": {},
   "outputs": [],
   "source": []
  },
  {
   "cell_type": "code",
   "execution_count": null,
   "metadata": {},
   "outputs": [],
   "source": []
  }
 ],
 "metadata": {
  "kernelspec": {
   "display_name": "Python 3",
   "language": "python",
   "name": "python3"
  },
  "language_info": {
   "codemirror_mode": {
    "name": "ipython",
    "version": 3
   },
   "file_extension": ".py",
   "mimetype": "text/x-python",
   "name": "python",
   "nbconvert_exporter": "python",
   "pygments_lexer": "ipython3",
   "version": "3.6.8-final"
  }
 },
 "nbformat": 4,
 "nbformat_minor": 2
}