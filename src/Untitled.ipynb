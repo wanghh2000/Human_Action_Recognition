{
 "cells": [
  {
   "cell_type": "code",
   "execution_count": 1,
   "metadata": {},
   "outputs": [
    {
     "name": "stdout",
     "output_type": "stream",
     "text": [
      "[0, 1, 2, 3, 4, 5, 6, 7, 8, 9]\n",
      "[0, 2, 4, 6, 8]\n"
     ]
    }
   ],
   "source": [
    "l = [0,1,2,3,4,5,6,7,8,9]\n",
    "print(l)\n",
    "odd = l[::2]\n",
    "print(odd)\n",
    "even = l[1::2]"
   ]
  },
  {
   "cell_type": "code",
   "execution_count": 2,
   "metadata": {},
   "outputs": [
    {
     "data": {
      "text/plain": [
       "[0, 2, 4, 6, 8]"
      ]
     },
     "execution_count": 2,
     "metadata": {},
     "output_type": "execute_result"
    }
   ],
   "source": [
    "odd"
   ]
  },
  {
   "cell_type": "code",
   "execution_count": 2,
   "metadata": {},
   "outputs": [
    {
     "output_type": "stream",
     "name": "stdout",
     "text": "1.231\n"
    }
   ],
   "source": [
    "lsss = 1.23123123123123122 \n",
    "lsss = round(lsss, 3)\n",
    "print(lsss)"
   ]
  },
  {
   "cell_type": "code",
   "execution_count": 4,
   "metadata": {},
   "outputs": [
    {
     "output_type": "stream",
     "name": "stdout",
     "text": "[[1, 2, 3]]\n"
    }
   ],
   "source": [
    "test_list = []\n",
    "test_list.insert(10, [1,2,3])\n",
    "print(test_list)"
   ]
  },
  {
   "cell_type": "code",
   "execution_count": 5,
   "metadata": {},
   "outputs": [
    {
     "output_type": "stream",
     "name": "stdout",
     "text": "dict_keys([0, 2])\ndict_values([[0, 1, 2, 3, 4], [0, 1, 3, 4, 5]])\n"
    }
   ],
   "source": [
    "test_dict = {0:[0,1,2,3,4],2:[0,1,3,4,5]}\n",
    "idx = test_dict.keys()\n",
    "print(idx)\n",
    "points = test_dict.values()\n",
    "print(points)"
   ]
  },
  {
   "cell_type": "code",
   "execution_count": 21,
   "metadata": {},
   "outputs": [
    {
     "output_type": "stream",
     "name": "stdout",
     "text": "[0]\n"
    }
   ],
   "source": [
    "dict_1 = {0:[0,1,2,3,4],1:[0,1,3,4,5]}\n",
    "dict_2 = {3:[0,1,2,3,4],1:[0,1,3,4,5]}\n",
    "dict_set1 = set(dict_1)\n",
    "dict_set2 = set(dict_2)\n",
    "resul_id = list(dict_set1 - dict_set2)\n",
    "print(resul_id)"
   ]
  },
  {
   "cell_type": "code",
   "execution_count": 27,
   "metadata": {},
   "outputs": [
    {
     "output_type": "stream",
     "name": "stdout",
     "text": "[0, 1, 2]\n0\n1\n2\n"
    }
   ],
   "source": [
    "l1 = [0,1,2,3,4]\n",
    "l2 = [5,3,4]\n",
    "s1 = set(l1)\n",
    "s2 = set(l2)\n",
    "res = list(s1 - s2)\n",
    "print(res)\n",
    "for index in res:\n",
    "    print(l1.index(index))\n",
    ""
   ]
  },
  {
   "cell_type": "code",
   "execution_count": 1,
   "metadata": {},
   "outputs": [
    {
     "output_type": "stream",
     "name": "stdout",
     "text": "{0: [0, 0, 0]}\n"
    }
   ],
   "source": [
    "target_dict = {}\n",
    "pre_1 = 1\n",
    "id = 0\n",
    "dict1 = {pre_1:id}\n",
    "target_dict[id] = pre_1\n",
    "target_dict[0] = [0,0,0]\n",
    "print(target_dict)"
   ]
  },
  {
   "cell_type": "code",
   "execution_count": 2,
   "metadata": {},
   "outputs": [],
   "source": [
    "a_dict = {1:[0,0],2:[1,1]}\n",
    "values_view = a_dict.values()\n",
    "print(values_view)\n",
    "value_iterator = iter(values_view)\n",
    "\n",
    "first_value = next(value_iterator)\n"
   ]
  },
  {
   "cell_type": "code",
   "execution_count": null,
   "metadata": {},
   "outputs": [],
   "source": []
  }
 ],
 "metadata": {
  "kernelspec": {
   "display_name": "Python 3",
   "language": "python",
   "name": "python3"
  },
  "language_info": {
   "codemirror_mode": {
    "name": "ipython",
    "version": 3
   },
   "file_extension": ".py",
   "mimetype": "text/x-python",
   "name": "python",
   "nbconvert_exporter": "python",
   "pygments_lexer": "ipython3",
   "version": "3.6.8-final"
  }
 },
 "nbformat": 4,
 "nbformat_minor": 2
}